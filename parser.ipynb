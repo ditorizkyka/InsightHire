{
 "cells": [
  {
   "cell_type": "code",
   "execution_count": 5,
   "id": "f271e22b-bb13-48dc-9d9b-ff316aee42ed",
   "metadata": {},
   "outputs": [],
   "source": [
    "import fitz  # PyMuPDF\n",
    "import spacy\n",
    "import sentence_transformers"
   ]
  },
  {
   "cell_type": "code",
   "execution_count": 6,
   "id": "a719b1fd-5756-4cb8-bf97-dd84f972e208",
   "metadata": {},
   "outputs": [],
   "source": [
    "# Buka file PDF\n",
    "doc = fitz.open(\"resume.pdf\")\n",
    "text = \"\" \n",
    "# Ekstrak teks dari semua halaman\n",
    "for page in doc:\n",
    "    text += page.get_text()\n",
    "    # print(text)\n",
    "\n",
    "# Tutup dokumen\n",
    "doc.close()\n"
   ]
  },
  {
   "cell_type": "code",
   "execution_count": 7,
   "id": "2cd88636-2153-4fe2-9873-f1efa2e60802",
   "metadata": {},
   "outputs": [
    {
     "name": "stdout",
     "output_type": "stream",
     "text": [
      "parser ANDITO RIZKYKA RIANTO \n",
      "rizkykandito@gmail.com | phone : +62 813- 8901-8701 | linkedin.com/in/anditorizkyka/ | portfolio-dito.vercel.app | \n",
      "github.com/ditorizkyka \n",
      "I am a 6th-semester Informatics undergraduate at Telkom University with a strong passion for developing mobile applications \n",
      "integrated with AI systems. I have been actively involved in various projects and social activities related to mobile app and \n",
      "AI model development. As a curious and adaptable problem solver, I constantly seek innovative solutions to real-world \n",
      "challenges. \n",
      " \n",
      "EDUCATION \n",
      " \n",
      "SMAN 2 GUNUNGPUTRI \n",
      "                      Bogor, West Java \n",
      "Final Score: 92.00 | Achieve Top 3 score on Science Class \n",
      "                                    2019 – 2022 \n",
      "Telkom University | Informatics \n",
      "           Bandung City, West Java \n",
      "Cummulative GPA: 3.92 / 4.00                                                                                                                                                                             2022 \n",
      "WORK/INTERNSHIP EXPERIENCE \n",
      " \n",
      "CoE Human Centric Engineering  (Internship) \n",
      "        \n",
      " \n",
      " \n",
      " \n",
      " \n",
      " \n",
      " \n",
      "       Sept  - Oct  2024  \n",
      "Mobile Developer Flutter  \n",
      "● Developed and deployed Flutter features using GoRouter and Riverpod, resulting in improved learning experience on pelvic \n",
      "education. \n",
      "● Designed a responsive UI that increased user engagement and reduced navigation errors. \n",
      "● Delivered a clean and intuitive interface through efficient UI slicing, improving overall usability. \n",
      " \n",
      "Mobile Innovation Labolatory  (Internship) \n",
      " Sept 2024 – May 2025 \n",
      "Mobile Progammer Flutter  \n",
      "● Led and contributed to study groups, enhancing team understanding of advanced Flutter and effective state management. \n",
      "● Built innovative mobile solutions with a focus on real-world use cases, leading to clearer comprehension of class diagrams and \n",
      "practical system modeling. \n",
      "● Collaborated using GitHub, improving workflow efficiency and version control across the team. \n",
      " \n",
      "Komunitas Tentor HIMA IF  (Mentoring) \n",
      "  Sept 2024 – Jan 2025  \n",
      "Data Structure Mentor \n",
      "● Taught fundamental Algorithm Programming and Data Structures to Informatics students, increasing their academic performance \n",
      "and coding confidence. \n",
      "● Delivered in-depth mentoring sessions on complex topics such as Linked Lists (SLL, DLL), Queue, Stack, and Multi-Level Linked \n",
      "List (MLL), resulting in better understanding and practical application. \n",
      "● Create innovation through Mobile application and undestanding about usecase/class diagram etc. \n",
      "● Contributed to mentees' preparedness for technical assessments through structured teaching and real-case discussions. \n",
      " \n",
      "PROFESSIONAL ORGANIZATION EXPERINCE \n",
      " \n",
      " \n",
      " \n",
      "Start-Up Youth Indonesia \n",
      "         July - Dec 2021 \n",
      "General Vice Secretary \n",
      "● Managed and organized essential physical and digital documents, letters, and correspondence. \n",
      "● Supported the preparation and distribution of internal communications, announcements, and newsletters, improving team \n",
      "coordination.. \n",
      " \n",
      "Google Developer Groups on Campus Chapter :  Telkom University Bandung  \n",
      "                 Sept - Now \n",
      "Core Team : Project Manager \n",
      "● Led the GDSC team in The Hackfest 2023 to develop an innovative app, Bantuln, enhancing community impact through \n",
      "tech solutions. \n",
      "● Contributed to the success of a mobile development bootcamp by coordinating sessions on Flutter app development. \n",
      " \n",
      "Digistar Club Campus Chapter Telkom University \n",
      "                 Sept - Now \n",
      "General Vice Lead Community \n",
      "● Organized an event titled “Digitalks Telkom University: From Zero to Data Hero – Kick Start Your Career in Data \n",
      "Science.” \n",
      "● Assisted the General Lead in supervising internal divisions, ensuring alignment with the club’s vision and improving \n",
      "team synergy across activities. \n",
      "● Contributed to program planning and decision-making, resulting in the smooth execution of initiatives and enhanced \n",
      "engagement among members. \n",
      " \n",
      " \n",
      "TRAINING AND CERTIFICATION  \n",
      " \n",
      "Developing Android Apps Beginner \n",
      "by IDCamp 2023 by Indosat Ooredoo Hutchison \n",
      "Learn about Fundamental, Control Flow, Object Oriented Programming Kotlin Programming Language. I also learn about \n",
      "Android Studio Software to build my first Apps for the last submission in this Course. \n",
      "Intelectual Property Rights(HKI) MedPelvis Mobile \n",
      "by Direktur Jenderal Kekayaan Intelektual  \n",
      "MedPelvis Mobile is an educational app that presents anatomy topics—such as the pelvis, childbirth mechanisms, upper limbs, \n",
      "and lower limbs—through videos, visualizations, and GIFs. The app is officially registered and protected under Intellectual \n",
      "Property Rights. \n",
      "Agile Scrum Fundamentals \n",
      "by MindMagine Asia Sdn. Bhd. — May 2025  \n",
      "Successfully completed the Agile Scrum Fundamentals certification with a score of 90%, demonstrating a solid understanding \n",
      "of Agile principles, Scrum roles, events, and artifacts. The certification validates foundational knowledge essential for working \n",
      "in Agile project environments. \n",
      "Microsoft AI Fundamentals (AI-900) \n",
      "by Microsoft – May 2025 \n",
      "Successfully completed the Azure AI Fundamentals (AI-900) preparation course, demonstrating a solid understanding of core \n",
      "AI concepts, machine learning, computer vision, NLP, and Azure AI services. The course validates foundational knowledge \n",
      "essential for applying AI solutions in cloud environments. \n",
      " \n",
      "PROJECTS EXPERIENCE  \n",
      " \n",
      "Full project descriptions (Tools, Features, Skill Implementation) are available via drive portfolio or website portfolio \n",
      " \n",
      "● \n",
      "Software Development (2024) Pollusafe App  : A mobile application developed to monitor air quality. \n",
      "● \n",
      "Software Development (2024) MedPelvis Mobile : An educational Flutter app that explores the pelvis, childbirth mechanisms, \n",
      "upper limbs, and lower limbs using videos and GIFs. (This project is protected by intellectual property rights.) \n",
      "● \n",
      "Software Development (2025) Tel-Mind Powered Gemini AI : A generative text app developed using Flutter and powered by \n",
      "Gemini AI. \n",
      "● \n",
      "Software Development (2025) Eklo App : A product developed for Motion Hack to address SDG challenges through the Eklo \n",
      "(Ecosystem Loop) framework. \n",
      "● \n",
      "Software Development (2025) Money Mate Mobile : A mobile application designed to record and track daily expenses. \n",
      "● \n",
      "Software Development (2024) Indowira : A freelance project focused on slicing and implementing the entire application interface. \n",
      "● \n",
      "Artificial Intelligence (2024) Crab Age Prediction : An AI project that predicts the age of crabs to improve quality and market \n",
      "value. \n",
      "● \n",
      "Artificial Intelligence (2025) Computer Vision : Pothole Detection Using YOLOv11 : A computer vision final project to detect \n",
      "road potholes using the YOLOv11 algorithm. \n",
      "● \n",
      "Artificial Intelligence (2025) Computer Vision : EVALUATION OF CNN ARCHITECTURES ON CAT BREED \n",
      "CLASSIFICATION : A project to compare CNN architectures for classifying domestic cat breeds. \n",
      "\n"
     ]
    }
   ],
   "source": [
    "print(f\"parser {text}\")"
   ]
  },
  {
   "cell_type": "code",
   "execution_count": 8,
   "id": "70a12841-8b11-4a42-8a3d-9e94102ec342",
   "metadata": {},
   "outputs": [
    {
     "name": "stdout",
     "output_type": "stream",
     "text": [
      "Apple Apple PROPN NNP nsubj Xxxxx True False\n",
      "is be AUX VBZ aux xx True True\n",
      "looking look VERB VBG ROOT xxxx True False\n",
      "at at ADP IN prep xx True True\n",
      "buying buy VERB VBG pcomp xxxx True False\n",
      "U.K. U.K. PROPN NNP nsubj X.X. False False\n",
      "startup startup VERB VBD ccomp xxxx True False\n",
      "for for ADP IN prep xxx True True\n",
      "$ $ SYM $ quantmod $ False False\n",
      "1 1 NUM CD compound d False False\n",
      "billion billion NUM CD pobj xxxx True False\n"
     ]
    }
   ],
   "source": [
    "nlp = spacy.load(\"en_core_web_sm\")\n",
    "doc = nlp(\"Apple is looking at buying U.K. startup for $1 billion\")\n",
    "for token in doc:\n",
    "    print(token.text, token.lemma_, token.pos_, token.tag_, token.dep_,\n",
    "            token.shape_, token.is_alpha, token.is_stop)"
   ]
  },
  {
   "cell_type": "code",
   "execution_count": 9,
   "id": "9cf27907-654d-489a-9117-87f7d53c226e",
   "metadata": {},
   "outputs": [],
   "source": [
    "def preprocess_resume(text):\n",
    "    text = text.replace(\"\\n\", \"\")         # Hilangkan newline\n",
    "    text = text.replace(\"●\", \"\")\n",
    "    text = text.replace(\"|\", \"\")\n",
    "    nlp = spacy.load(\"en_core_web_sm\")\n",
    "    doc = nlp(text)\n",
    "    filtered_tokens = []\n",
    "    for token in doc:\n",
    "        if token.is_stop or token.is_punct or not token.is_alpha:\n",
    "            continue\n",
    "        filtered_tokens.append(token.lemma_)\n",
    "\n",
    "    return \" \".join(filtered_tokens)"
   ]
  },
  {
   "cell_type": "code",
   "execution_count": 10,
   "id": "62d78784-51bd-4a4a-9fd9-d7614c1b2268",
   "metadata": {},
   "outputs": [
    {
     "data": {
      "text/plain": [
       "'ANDITO RIZKYKA RIANTO phone semester informatic undergraduate Telkom University strong passion develop mobile application integrate AI system actively involve project social activity relate mobile app AI model development curious adaptable problem solver constantly seek innovative solution real world challenge EDUCATION SMAN GUNUNGPUTRI Bogor West Java Final score achieve score Science Class Telkom University Informatics Bandung City West Java Cummulative GPA WORK INTERNSHIP experience coe Human Centric Engineering internship Sept oct Mobile Developer Flutter Developed deploy Flutter feature GoRouter Riverpod result improved learning experience pelvic education design responsive UI increase user engagement reduce navigation error deliver clean intuitive interface efficient UI slicing improve overall usability Mobile Innovation Labolatory internship Sept Mobile Progammer Flutter Led contribute study group enhance team understanding advanced Flutter effective state management build innovative mobile solution focus real world use case lead clear comprehension class diagram practical system modeling collaborate GitHub improve workflow efficiency version control team Komunitas Tentor HIMA mentoring Sept Jan Data Structure Mentor teach fundamental Algorithm Programming Data Structures Informatics student increase academic performance code confidence deliver depth mentoring session complex topic Linked Lists SLL DLL Queue Stack Multi level Linked List MLL result well understanding practical application create innovation Mobile application undestande usecase class diagram etc contribute mentee preparedness technical assessment structured teaching real case discussion PROFESSIONAL ORGANIZATION EXPERINCE start Youth Indonesia July Dec General Vice Secretary Managed organize essential physical digital document letter correspondence support preparation distribution internal communication announcement newsletter improve team coordination Google Developer Groups Campus Chapter Telkom University Bandung Sept Core team Project Manager Led GDSC team Hackfest develop innovative app Bantuln enhance community impact tech solution contribute success mobile development bootcamp coordinate session Flutter app development Digistar Club Campus Chapter Telkom University Sept General Vice Lead Community organize event title Digitalks Telkom University Zero Data Hero Kick start Career Data Science Assisted General Lead supervise internal division ensure alignment club vision improve team synergy activity contribute program planning decision making result smooth execution initiative enhance engagement member TRAINING CERTIFICATION develop Android Apps Beginner IDCamp Indosat Ooredoo Hutchison Learn Fundamental Control Flow Object orient Programming Kotlin Programming Language learn Android Studio Software build Apps submission course Intelectual Property MedPelvis Mobile Direktur Jenderal Kekayaan Intelektual MedPelvis Mobile educational app present anatomy topic pelvis childbirth mechanism upper limb low limb video visualization GIFs app officially register protect Intellectual Property Rights Agile Scrum Fundamentals MindMagine Asia Sdn Bhd successfully complete Agile Scrum Fundamentals certification score demonstrate solid understanding agile principle Scrum role event artifact certification validate foundational knowledge essential work Agile project environment Microsoft AI Fundamentals Microsoft Successfully complete Azure AI Fundamentals preparation course demonstrate solid understanding core AI concept machine learning computer vision NLP Azure AI service course validate foundational knowledge essential apply AI solution cloud environment project experience project description Tools feature Skill Implementation available drive portfolio website portfolio Software Development Pollusafe App mobile application develop monitor air quality Software Development MedPelvis Mobile educational Flutter app explore pelvis childbirth mechanism upper limb low limb video gif project protect intellectual property right Software Development Tel Mind Powered Gemini AI generative text app develop Flutter power Gemini AI Software Development Eklo App product develop Motion Hack address sdg challenge Eklo Ecosystem loop framework Software Development Money Mate mobile mobile application design record track daily expense Software Development indowira freelance project focus slicing implement entire application interface Artificial Intelligence Crab Age prediction AI project predict age crab improve quality market value Artificial Intelligence computer vision Pothole Detection computer vision final project detect road pothole algorithm Artificial Intelligence computer Vision evaluation CNN ARCHITECTURES CAT breed classification project compare CNN architecture classify domestic cat breed'"
      ]
     },
     "execution_count": 10,
     "metadata": {},
     "output_type": "execute_result"
    }
   ],
   "source": [
    "preprocessed_resume = preprocess_resume(text)\n",
    "preprocessed_resume"
   ]
  },
  {
   "cell_type": "code",
   "execution_count": 11,
   "id": "f81faf9c-2b69-4318-8dec-c9740c4e3175",
   "metadata": {},
   "outputs": [
    {
     "name": "stdout",
     "output_type": "stream",
     "text": [
      "We are looking for a highly motivated AI Engineer to join our innovation team.\n",
      "\n",
      "Responsibilities:\n",
      "- Design, develop, and deploy machine learning models for real-world applications.\n",
      "- Work on projects involving computer vision, natural language processing, and generative AI.\n",
      "- Collaborate with data scientists and backend engineers to integrate models into production.\n",
      "- Optimize models for performance and scalability.\n",
      "\n",
      "Qualifications:\n",
      "- Bachelor's degree in Computer Science, Artificial Intelligence, or related field.\n",
      "- Proficient in Python and libraries such as TensorFlow, PyTorch, and scikit-learn.\n",
      "- Experience with NLP techniques and frameworks like Hugging Face Transformers or spaCy.\n",
      "- Knowledge of cloud platforms (AWS, GCP, or Azure) and containerization (Docker).\n",
      "- Familiarity with MLOps tools (MLflow, DVC) is a plus.\n",
      "- Strong problem-solving and communication skills.\n",
      "\n",
      "Nice to Have:\n",
      "- Experience with large language models (LLMs) or Retrieval-Augmented Generation (RAG).\n",
      "- Contributions to open-source AI/ML projects.\n",
      "\n"
     ]
    }
   ],
   "source": [
    "jd_input = open(\"ai-engineer.txt\", \"r\")\n",
    "jd_text = jd_input.read()\n",
    "jd_input.close()\n",
    "\n",
    "print(jd_text)"
   ]
  },
  {
   "cell_type": "code",
   "execution_count": 12,
   "id": "9d5b36dc-1697-44e2-a91d-55edfd70bf57",
   "metadata": {},
   "outputs": [
    {
     "data": {
      "text/plain": [
       "'ANDITO RIZKYKA RIANTO phone semester informatic undergraduate Telkom University strong passion develop mobile application integrate AI system actively involve project social activity relate mobile app AI model development curious adaptable problem solver constantly seek innovative solution real world challenge EDUCATION SMAN GUNUNGPUTRI Bogor West Java Final score achieve score Science Class Telkom University Informatics Bandung City West Java Cummulative GPA WORK INTERNSHIP experience coe Human Centric Engineering internship Sept oct Mobile Developer Flutter Developed deploy Flutter feature GoRouter Riverpod result improved learning experience pelvic education design responsive UI increase user engagement reduce navigation error deliver clean intuitive interface efficient UI slicing improve overall usability Mobile Innovation Labolatory internship Sept Mobile Progammer Flutter Led contribute study group enhance team understanding advanced Flutter effective state management build innovative mobile solution focus real world use case lead clear comprehension class diagram practical system modeling collaborate GitHub improve workflow efficiency version control team Komunitas Tentor HIMA mentoring Sept Jan Data Structure Mentor teach fundamental Algorithm Programming Data Structures Informatics student increase academic performance code confidence deliver depth mentoring session complex topic Linked Lists SLL DLL Queue Stack Multi level Linked List MLL result well understanding practical application create innovation Mobile application undestande usecase class diagram etc contribute mentee preparedness technical assessment structured teaching real case discussion PROFESSIONAL ORGANIZATION EXPERINCE start Youth Indonesia July Dec General Vice Secretary Managed organize essential physical digital document letter correspondence support preparation distribution internal communication announcement newsletter improve team coordination Google Developer Groups Campus Chapter Telkom University Bandung Sept Core team Project Manager Led GDSC team Hackfest develop innovative app Bantuln enhance community impact tech solution contribute success mobile development bootcamp coordinate session Flutter app development Digistar Club Campus Chapter Telkom University Sept General Vice Lead Community organize event title Digitalks Telkom University Zero Data Hero Kick start Career Data Science Assisted General Lead supervise internal division ensure alignment club vision improve team synergy activity contribute program planning decision making result smooth execution initiative enhance engagement member TRAINING CERTIFICATION develop Android Apps Beginner IDCamp Indosat Ooredoo Hutchison Learn Fundamental Control Flow Object orient Programming Kotlin Programming Language learn Android Studio Software build Apps submission course Intelectual Property MedPelvis Mobile Direktur Jenderal Kekayaan Intelektual MedPelvis Mobile educational app present anatomy topic pelvis childbirth mechanism upper limb low limb video visualization GIFs app officially register protect Intellectual Property Rights Agile Scrum Fundamentals MindMagine Asia Sdn Bhd successfully complete Agile Scrum Fundamentals certification score demonstrate solid understanding agile principle Scrum role event artifact certification validate foundational knowledge essential work Agile project environment Microsoft AI Fundamentals Microsoft Successfully complete Azure AI Fundamentals preparation course demonstrate solid understanding core AI concept machine learning computer vision NLP Azure AI service course validate foundational knowledge essential apply AI solution cloud environment project experience project description Tools feature Skill Implementation available drive portfolio website portfolio Software Development Pollusafe App mobile application develop monitor air quality Software Development MedPelvis Mobile educational Flutter app explore pelvis childbirth mechanism upper limb low limb video gif project protect intellectual property right Software Development Tel Mind Powered Gemini AI generative text app develop Flutter power Gemini AI Software Development Eklo App product develop Motion Hack address sdg challenge Eklo Ecosystem loop framework Software Development Money Mate mobile mobile application design record track daily expense Software Development indowira freelance project focus slicing implement entire application interface Artificial Intelligence Crab Age prediction AI project predict age crab improve quality market value Artificial Intelligence computer vision Pothole Detection computer vision final project detect road pothole algorithm Artificial Intelligence computer Vision evaluation CNN ARCHITECTURES CAT breed classification project compare CNN architecture classify domestic cat breed'"
      ]
     },
     "execution_count": 12,
     "metadata": {},
     "output_type": "execute_result"
    }
   ],
   "source": [
    "def preprocess_jd(jd_text):\n",
    "    jd_text = jd_text.replace(\"\\n\", \" \")  # ganti newline dengan spasi\n",
    "    nlp = spacy.load(\"en_core_web_sm\")\n",
    "    doc = nlp(jd_text)\n",
    "\n",
    "    filtered_jdText = []\n",
    "    for token in doc:\n",
    "        if token.is_stop or token.is_punct or not token.is_alpha:\n",
    "            continue\n",
    "        filtered_jdText.append(token.lemma_.lower())  # lowercase untuk konsistensi\n",
    "\n",
    "    return \" \".join(filtered_jdText)\n",
    "\n",
    "preprocessed_jd = preprocess_jd(jd_text)\n",
    "preprocessed_resume"
   ]
  },
  {
   "cell_type": "code",
   "execution_count": 16,
   "id": "1c3df090-26e8-4d12-b735-2f08200d8f9a",
   "metadata": {},
   "outputs": [
    {
     "name": "stdout",
     "output_type": "stream",
     "text": [
      "look highly motivated ai engineer join innovation team responsibility design develop deploy machine learning model real world application work project involve computer vision natural language processing generative ai collaborate data scientist backend engineer integrate model production optimize model performance scalability qualification bachelor degree computer science artificial intelligence related field proficient python library tensorflow pytorch scikit learn experience nlp technique framework like hugging face transformers spacy knowledge cloud platform aws gcp azure containerization docker familiarity mlops tool mlflow dvc plus strong problem solve communication skill nice experience large language model llms retrieval augmented generation rag contribution open source ai ml project\n"
     ]
    },
    {
     "data": {
      "text/plain": [
       "array([-0.21809407, -0.22127491,  0.0529328 , -0.2995657 ,  0.19894487,\n",
       "        0.03227402, -0.20313042, -0.20933494, -0.3506903 ,  0.03902823,\n",
       "       -0.20825826, -0.18955928, -0.11919396, -0.14221478,  0.17900136,\n",
       "        0.11210043, -0.18801917, -0.07586859, -0.04362302, -0.15044105,\n",
       "       -0.25387582, -0.24073869,  0.09677536, -0.20013165, -0.12479658,\n",
       "        0.32663742,  0.1080756 , -0.22882542,  0.54701304,  0.11007738,\n",
       "        0.14642687,  0.08550698,  0.3248319 ,  0.04332311, -0.24337414,\n",
       "        0.374099  , -0.43472305, -0.00108159,  0.1368524 , -0.22021662,\n",
       "       -0.29913896,  0.07248492,  0.1960594 , -0.26180995, -0.07911868,\n",
       "       -0.03937538, -0.14728957,  0.10641761, -0.2491627 ,  0.06413367,\n",
       "       -0.1201057 , -0.34350455, -0.22159733, -0.6363386 ,  0.04920329,\n",
       "        0.04428968,  0.07064611,  0.2363539 , -0.19572686, -0.28858063,\n",
       "       -0.24157128, -0.23011975,  0.00094965,  0.04827188, -0.01397046,\n",
       "        0.29530212, -0.32853147,  0.142386  ,  0.07655524, -0.5019806 ,\n",
       "        0.03202072, -0.1924721 , -0.50224113, -0.04454693,  0.15704274,\n",
       "        0.32024482,  0.19820789,  0.01249841,  0.33617038,  0.22822282,\n",
       "       -0.01820502, -0.00522412, -0.13501857,  0.18752734,  0.27194455,\n",
       "       -0.3117316 , -0.01264672,  0.16019928,  0.43754095, -0.05276015,\n",
       "        0.07593534, -0.01139339,  0.02668709,  0.07532998,  0.6078727 ,\n",
       "        0.37813467,  0.10975901, -0.05736146, -0.27420402,  0.2732755 ,\n",
       "       -0.2877087 , -0.33668393, -0.42647773, -0.09050357, -0.05467549,\n",
       "        0.00607122,  0.29912654,  0.05391628,  0.40264466, -0.22660105,\n",
       "       -0.01054266,  0.15368503, -0.30963194, -0.34705865,  0.06003585,\n",
       "        0.02537407, -0.24330364,  0.23792619, -0.09289216, -0.38393337,\n",
       "       -0.17866015, -0.39372036,  0.06738309,  0.34424987, -0.06656034,\n",
       "        0.02603327, -0.3293932 , -0.16768138, -0.36270273,  0.04937557,\n",
       "        0.27648288,  0.21710712, -0.12827702, -0.09950602,  0.3170742 ,\n",
       "        0.3226263 , -0.05306824, -0.49441186, -0.422568  , -0.18456782,\n",
       "       -0.17089985, -0.09463903,  0.16191326, -0.2536547 ,  0.19991289,\n",
       "        0.07792088,  0.01612963,  0.14488961, -0.05999931, -0.06544071,\n",
       "        0.16633725, -0.12461538, -0.13855007,  0.5032065 ,  0.5670466 ,\n",
       "        0.19330807,  0.4984    ,  0.14487126, -0.14676741, -0.03856916,\n",
       "       -0.1410761 , -0.00572048, -0.180536  , -0.09959274, -0.17170757,\n",
       "       -0.12164339, -0.1504364 , -0.07062387, -0.08826644,  0.4160639 ,\n",
       "       -0.5745905 , -0.06702889,  0.06687424, -0.06802882,  0.40917575,\n",
       "       -0.14113906, -0.11964034, -0.15278184, -0.09307856,  0.18583025,\n",
       "        0.16145763,  0.02130331,  0.46323782,  0.09226296,  0.10241953,\n",
       "        0.45979604,  0.20384847,  0.3618586 , -0.18253607,  0.08882745,\n",
       "       -0.11190242,  0.50012803,  0.22053182,  0.27321315,  0.20663689,\n",
       "       -0.28709212,  0.39224178, -0.07864769,  0.07594014,  0.11054789,\n",
       "       -0.2224602 , -0.1289287 , -0.50681967, -0.01074492, -0.07382259,\n",
       "        0.09374847, -0.09562445,  0.15900761, -0.22965255,  0.4058988 ,\n",
       "       -0.09149437, -0.4674092 ,  0.09615646,  0.063026  , -0.02056643,\n",
       "       -0.3327616 ,  0.12521222,  0.24406892, -0.26667583, -0.08158751,\n",
       "       -0.27219462,  0.36245275, -0.19211483,  0.24152641, -0.3142218 ,\n",
       "       -0.23542902, -0.63039476,  0.1782265 ,  0.13407439,  0.2015437 ,\n",
       "       -0.05538799, -0.09191582,  0.18919761,  0.08706111,  0.268048  ,\n",
       "        0.00707282, -0.26451874, -0.00181604, -0.38717327, -0.03973961,\n",
       "       -0.06599865, -0.19742829, -0.45386565,  0.2704952 ,  0.10794587,\n",
       "        0.23802723, -0.35768974, -0.29819548, -0.4624245 ,  0.15649249,\n",
       "       -0.00631445, -0.38160062,  0.6185669 ,  0.14267437,  0.12879878,\n",
       "       -0.18000737, -0.3906556 , -0.03290231, -0.00360727,  0.05624145,\n",
       "       -0.01869137, -0.29313788, -0.02323153,  0.5314062 ,  0.1822407 ,\n",
       "       -0.08774059, -0.8197417 ,  0.2187303 , -0.18487175, -0.20404728,\n",
       "       -0.1571212 , -0.35568276,  0.5314644 , -0.01029361,  0.23176003,\n",
       "       -0.23888022,  0.12218316, -0.1745844 ,  0.02923132,  0.14873427,\n",
       "        0.20333591,  0.01067419, -0.2553688 ,  0.29350874,  0.06018968,\n",
       "       -0.27455193,  0.3401168 , -0.13552696, -0.24984656,  0.11981034,\n",
       "       -0.11363592,  0.6080171 , -0.2301777 , -0.01040786, -0.0659811 ,\n",
       "        0.07746647,  0.41181585,  0.11786192, -0.11446867, -0.07390335,\n",
       "        0.10006106,  0.36944005,  0.09555303,  0.01796628, -0.26576427,\n",
       "        0.01233985,  0.10645807, -0.02601943, -0.10586702, -0.06110494,\n",
       "        0.5715498 ,  0.02431356,  0.21292172,  0.13950816, -0.37831217,\n",
       "        0.19136986,  0.19720232,  0.32444844, -0.01064982,  0.39299175,\n",
       "       -0.2179965 , -0.03182802,  0.06363422,  0.26068142,  0.16573414,\n",
       "        0.165213  , -0.5994278 , -0.01733296, -0.1920206 , -0.20127507,\n",
       "       -0.12196599, -0.15015568, -0.3439102 ,  0.4672855 ,  0.18071179,\n",
       "        0.19030042, -0.19867149,  0.38508832, -0.31996292, -0.46273798,\n",
       "        0.1520945 , -0.09905444,  0.09035122,  0.09201161, -0.09004091,\n",
       "       -0.33144224, -0.30911863,  0.52524734, -0.07829919,  0.2583905 ,\n",
       "       -0.16659103,  0.09134602,  0.09429889, -0.35702947,  0.26111624,\n",
       "        0.44325912,  0.2621576 , -0.01592598,  0.0631668 ,  0.31886032,\n",
       "       -0.39668524,  0.29980892, -0.01471823, -0.15154745,  0.50227064,\n",
       "        0.0312094 , -0.12642042, -0.61247855, -0.03096469,  0.21675874,\n",
       "       -0.23090482, -0.00580366, -0.08953623,  0.2750286 ,  0.42993918,\n",
       "        0.2922585 ,  0.20074631,  0.09808178, -0.06057275,  0.33096883,\n",
       "       -0.16577007, -0.22101384, -0.12687585,  0.02093418], dtype=float32)"
      ]
     },
     "execution_count": 16,
     "metadata": {},
     "output_type": "execute_result"
    }
   ],
   "source": [
    "from sentence_transformers import SentenceTransformer\n",
    "\n",
    "preprocessed_resume\n",
    "print(preprocessed_jd)\n",
    "\n",
    "\n",
    "model = SentenceTransformer(\"paraphrase-MiniLM-L6-v2\")\n",
    "resume_embedding = model.encode(preprocessed_resume)\n",
    "jd_embedding = model.encode(preprocessed_jd)\n",
    "jd_embedding"
   ]
  },
  {
   "cell_type": "code",
   "execution_count": 18,
   "id": "a612172c-2886-47b3-9488-09703a990d3c",
   "metadata": {},
   "outputs": [
    {
     "data": {
      "text/plain": [
       "0.6943042874336243"
      ]
     },
     "execution_count": 18,
     "metadata": {},
     "output_type": "execute_result"
    }
   ],
   "source": [
    "from sentence_transformers.util import cos_sim\n",
    "\n",
    "similarity_score = cos_sim(resume_embedding, jd_embedding).item()\n",
    "similarity_score"
   ]
  },
  {
   "cell_type": "code",
   "execution_count": 20,
   "id": "8d5512c2-1a23-43af-a22d-feeaf42b04bc",
   "metadata": {},
   "outputs": [],
   "source": [
    "# 📚 Daftar skill yang ingin dideteksi\n",
    "SKILL_KEYWORDS = [\n",
    "    \"python\", \"pytorch\", \"tensorflow\", \"scikit-learn\",\n",
    "    \"docker\", \"nlp\", \"mlops\", \"hugging face\", \"sql\",\n",
    "    \"aws\", \"gcp\", \"azure\", \"git\", \"llm\", \"rag\", \"computer vision\",\n",
    "    \"data science\"\n",
    "]\n",
    "\n",
    "def extract_skills(text: str) -> set:\n",
    "    text = text.lower()\n",
    "    found_skills = set()\n",
    "    for skill in SKILL_KEYWORDS:\n",
    "        if skill.lower() in text:\n",
    "            found_skills.add(skill)\n",
    "    return found_skills\n"
   ]
  },
  {
   "cell_type": "code",
   "execution_count": 24,
   "id": "94820ca6-4a1e-4cf8-9281-5b4b55a58a5f",
   "metadata": {},
   "outputs": [
    {
     "data": {
      "text/plain": [
       "{'aws',\n",
       " 'docker',\n",
       " 'gcp',\n",
       " 'hugging face',\n",
       " 'llm',\n",
       " 'mlops',\n",
       " 'python',\n",
       " 'pytorch',\n",
       " 'rag',\n",
       " 'tensorflow'}"
      ]
     },
     "execution_count": 24,
     "metadata": {},
     "output_type": "execute_result"
    }
   ],
   "source": [
    "resume_skills = extract_skills(preprocessed_resume)\n",
    "jd_skills = extract_skills(preprocessed_jd)\n",
    "\n",
    "matched = set(resume_skills) & set(jd_skills)\n",
    "missing = set(jd_skills) - matched\n",
    "matched\n",
    "missing"
   ]
  },
  {
   "cell_type": "code",
   "execution_count": 27,
   "id": "e1d4f72f-2d9e-47b4-b990-4959a8dcc30d",
   "metadata": {},
   "outputs": [
    {
     "data": {
      "text/plain": [
       "{'score': 58.43,\n",
       " 'matched': ['nlp', 'azure', 'computer vision'],\n",
       " 'missing': ['mlops',\n",
       "  'docker',\n",
       "  'llm',\n",
       "  'pytorch',\n",
       "  'python',\n",
       "  'hugging face',\n",
       "  'gcp',\n",
       "  'tensorflow',\n",
       "  'rag',\n",
       "  'aws'],\n",
       " 'feedback': 'Bagus di nlp, azure, computer vision. Tambahkan mlops, docker, llm, pytorch, python, hugging face, gcp, tensorflow, rag, aws di resume.'}"
      ]
     },
     "execution_count": 27,
     "metadata": {},
     "output_type": "execute_result"
    }
   ],
   "source": [
    "def score_resume(similarity, matched, missing):\n",
    "    score = round(similarity * 100 + len(matched) * 3 - len(missing) * 2, 2)\n",
    "    return {\n",
    "        \"score\": score,\n",
    "        \"matched\": list(matched),\n",
    "        \"missing\": list(missing),\n",
    "        \"feedback\": f\"Bagus di {', '.join(matched)}. Tambahkan {', '.join(missing)} di resume.\"\n",
    "    }\n",
    "\n",
    "score_resume(similarity_score, matched,missing)"
   ]
  },
  {
   "cell_type": "code",
   "execution_count": null,
   "id": "b2aa087d-4e15-488f-bebd-e456896ff633",
   "metadata": {},
   "outputs": [],
   "source": []
  }
 ],
 "metadata": {
  "kernelspec": {
   "display_name": "Python 3 (ipykernel)",
   "language": "python",
   "name": "python3"
  },
  "language_info": {
   "codemirror_mode": {
    "name": "ipython",
    "version": 3
   },
   "file_extension": ".py",
   "mimetype": "text/x-python",
   "name": "python",
   "nbconvert_exporter": "python",
   "pygments_lexer": "ipython3",
   "version": "3.12.3"
  }
 },
 "nbformat": 4,
 "nbformat_minor": 5
}
